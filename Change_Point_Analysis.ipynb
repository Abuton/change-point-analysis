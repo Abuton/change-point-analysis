{
  "nbformat": 4,
  "nbformat_minor": 0,
  "metadata": {
    "kernelspec": {
      "display_name": "Python 3",
      "language": "python",
      "name": "python3"
    },
    "language_info": {
      "codemirror_mode": {
        "name": "ipython",
        "version": 3
      },
      "file_extension": ".py",
      "mimetype": "text/x-python",
      "name": "python",
      "nbconvert_exporter": "python",
      "pygments_lexer": "ipython3",
      "version": "3.7.4"
    },
    "colab": {
      "name": "Change Point Analysis.ipynb",
      "provenance": [],
      "collapsed_sections": [
        "-1SirfP7u7RF"
      ]
    }
  },
  "cells": [
    {
      "cell_type": "code",
      "metadata": {
        "id": "suohFncOv3LO",
        "colab_type": "code",
        "colab": {
          "base_uri": "https://localhost:8080/",
          "height": 462
        },
        "outputId": "d4cf562e-0b36-4f23-d471-191124db0e70"
      },
      "source": [
        "!pip install git+https://github.com/Priesemann-Group/covid19_inference.git  "
      ],
      "execution_count": 1,
      "outputs": [
        {
          "output_type": "stream",
          "text": [
            "Collecting git+https://github.com/Priesemann-Group/covid19_inference.git\n",
            "  Cloning https://github.com/Priesemann-Group/covid19_inference.git to /tmp/pip-req-build-xzx6r_6r\n",
            "  Running command git clone -q https://github.com/Priesemann-Group/covid19_inference.git /tmp/pip-req-build-xzx6r_6r\n",
            "Requirement already satisfied: pymc3 in /usr/local/lib/python3.6/dist-packages (from covid19-inference==0.1.8a0) (3.7)\n",
            "Requirement already satisfied: matplotlib in /usr/local/lib/python3.6/dist-packages (from covid19-inference==0.1.8a0) (3.2.2)\n",
            "Requirement already satisfied: numpy in /usr/local/lib/python3.6/dist-packages (from covid19-inference==0.1.8a0) (1.18.5)\n",
            "Requirement already satisfied: pandas in /usr/local/lib/python3.6/dist-packages (from covid19-inference==0.1.8a0) (1.0.5)\n",
            "Requirement already satisfied: theano in /usr/local/lib/python3.6/dist-packages (from covid19-inference==0.1.8a0) (1.0.5)\n",
            "Requirement already satisfied: scipy>=0.18.1 in /usr/local/lib/python3.6/dist-packages (from pymc3->covid19-inference==0.1.8a0) (1.4.1)\n",
            "Requirement already satisfied: tqdm>=4.8.4 in /usr/local/lib/python3.6/dist-packages (from pymc3->covid19-inference==0.1.8a0) (4.41.1)\n",
            "Requirement already satisfied: h5py>=2.7.0 in /usr/local/lib/python3.6/dist-packages (from pymc3->covid19-inference==0.1.8a0) (2.10.0)\n",
            "Requirement already satisfied: patsy>=0.4.0 in /usr/local/lib/python3.6/dist-packages (from pymc3->covid19-inference==0.1.8a0) (0.5.1)\n",
            "Requirement already satisfied: kiwisolver>=1.0.1 in /usr/local/lib/python3.6/dist-packages (from matplotlib->covid19-inference==0.1.8a0) (1.2.0)\n",
            "Requirement already satisfied: python-dateutil>=2.1 in /usr/local/lib/python3.6/dist-packages (from matplotlib->covid19-inference==0.1.8a0) (2.8.1)\n",
            "Requirement already satisfied: pyparsing!=2.0.4,!=2.1.2,!=2.1.6,>=2.0.1 in /usr/local/lib/python3.6/dist-packages (from matplotlib->covid19-inference==0.1.8a0) (2.4.7)\n",
            "Requirement already satisfied: cycler>=0.10 in /usr/local/lib/python3.6/dist-packages (from matplotlib->covid19-inference==0.1.8a0) (0.10.0)\n",
            "Requirement already satisfied: pytz>=2017.2 in /usr/local/lib/python3.6/dist-packages (from pandas->covid19-inference==0.1.8a0) (2018.9)\n",
            "Requirement already satisfied: six>=1.9.0 in /usr/local/lib/python3.6/dist-packages (from theano->covid19-inference==0.1.8a0) (1.15.0)\n",
            "Building wheels for collected packages: covid19-inference\n",
            "  Building wheel for covid19-inference (setup.py) ... \u001b[?25l\u001b[?25hdone\n",
            "  Created wheel for covid19-inference: filename=covid19_inference-0.1.8a0-cp36-none-any.whl size=103637 sha256=87ee642f7c9c5535bde05e1f08adcbd4cd034c7583da8afd62448ae945817e0c\n",
            "  Stored in directory: /tmp/pip-ephem-wheel-cache-8ap9vmpo/wheels/da/f1/e7/da56ba4fe019b70927b4bb10088f02f672b31b69fd54a6e613\n",
            "Successfully built covid19-inference\n",
            "Installing collected packages: covid19-inference\n",
            "Successfully installed covid19-inference-0.1.8a0\n"
          ],
          "name": "stdout"
        }
      ]
    },
    {
      "cell_type": "code",
      "metadata": {
        "id": "zJgActnwu7Os",
        "colab_type": "code",
        "colab": {}
      },
      "source": [
        "import warnings\n",
        "warnings.filterwarnings('ignore')\n",
        "import datetime\n",
        "import time as time_module\n",
        "import sys\n",
        "import pandas as pd\n",
        "import numpy as np\n",
        "import matplotlib as mpl\n",
        "import matplotlib.pyplot as plt\n",
        "import scipy.stats\n",
        "import theano\n",
        "import theano.tensor as tt\n",
        "import pymc3 as pm\n",
        "\n",
        "import cachetools.func"
      ],
      "execution_count": 2,
      "outputs": []
    },
    {
      "cell_type": "code",
      "metadata": {
        "id": "om-BUfQFu7O1",
        "colab_type": "code",
        "colab": {}
      },
      "source": [
        "# Now to the fun stuff, we import our module!\n",
        "try:\n",
        "    import covid19_inference as cov19\n",
        "except ModuleNotFoundError:\n",
        "    sys.path.append(\"../../\")\n",
        "    import covid19_inference as cov19"
      ],
      "execution_count": 3,
      "outputs": []
    },
    {
      "cell_type": "markdown",
      "metadata": {
        "id": "wGkKMCnwu7O5",
        "colab_type": "text"
      },
      "source": [
        "## ${\\textbf{Data Retrieval}}$"
      ]
    },
    {
      "cell_type": "code",
      "metadata": {
        "id": "YvkRxwoSu7O6",
        "colab_type": "code",
        "colab": {}
      },
      "source": [
        "def fix_region_name(df, pairs = [[\"Mainland China\", \"China\"]]):\n",
        "    # fix region names\n",
        "    for p in pairs:\n",
        "        df['Country/Region'] = df['Country/Region'].str.replace(p[0],p[1])\n",
        "\n",
        "    return df\n",
        "\n",
        "    #-----\n",
        "def merge_df_data(df1,df2):\n",
        "    return pd.merge(df1, df2,how='left' ,on=['Province/State','Country/Region'])\n",
        "\n",
        "    #-----\n",
        "def str_add_func(*args):      \n",
        "    out = []\n",
        "    for x in args:\n",
        "        if isinstance(x,str):\n",
        "            out.append(x)\n",
        "\n",
        "    return '_'.join(out)\n",
        "\n",
        "\n",
        "class covid_data():\n",
        "    '''\n",
        "    Python class to obtain global COVID19 data from \n",
        "    John Hopkins GIT repository. This data is updated daily, \n",
        "    and the most upto date information available on the web.  \n",
        "    '''\n",
        "    def __init__(self,**kwargs):\n",
        "\n",
        "        #\n",
        "        nrow = kwargs.get('nrow',None)\n",
        "        self.confirmed, self.dead, self.recovered = self.get_csseg_data(nrow=nrow)\n",
        "\n",
        "    @staticmethod\n",
        "    def create_ts(df):\n",
        "        ts=df\n",
        "        columns = ts['region']\n",
        "        ts=ts.drop(['Province/State', \n",
        "                    'Country/Region',\n",
        "                    'Lat', \n",
        "                    'Long',\n",
        "                    'Population'], \n",
        "                   axis=1).set_index('region').T    \n",
        "\n",
        "        ts.columns = columns \n",
        "        ts=ts.fillna(0)\n",
        "        #\n",
        "        ts.index.name = 'Date'\n",
        "        return ts\n",
        "\n",
        "    def search_agg(self, name,col='Country/Region',ts=True):\n",
        "\n",
        "        if not isinstance(name,list):\n",
        "            name = [name]\n",
        "\n",
        "        out = {}\n",
        "        for k,v in {'confirmed':self.confirmed,\n",
        "                    'dead':self.dead,\n",
        "                    'recovered':self.recovered}.items():\n",
        "              #pd.columns(columns=)\n",
        "            df_list= []     \n",
        "            for n in name:\n",
        "                df = v[v[col]==n].set_index(col).filter(regex='/20')\n",
        "                df_list.append(df.sum(axis=0))\n",
        "\n",
        "            df = pd.concat(df_list,axis=1, sort=False)\n",
        "            df.columns = name\n",
        "            out[k] = df\n",
        "\n",
        "      # if ts:                \n",
        "      #   out[k] = self.create_ts(df)\n",
        "      # else:\n",
        "      #   out[k] = df.T\n",
        "\n",
        "        return out\n",
        "\n",
        "    def search(self, name,col='Country/Region',ts=True):\n",
        "\n",
        "        if not isinstance(name,list):\n",
        "            name = [name]\n",
        "\n",
        "        out = {}\n",
        "        for k,v in {'confirmed':self.confirmed,\n",
        "                    'dead':self.dead,\n",
        "                    'recovered':self.recovered}.items():\n",
        "            if ts:                \n",
        "                out[k] = self.create_ts(v[v[col].map(lambda x: x in name)])\n",
        "            else:\n",
        "                out[k] = v[v[col] in name].T\n",
        "        return out\n",
        "\n",
        "    @cachetools.func.ttl_cache(maxsize=128, ttl=24 * 60)\n",
        "    def get_csseg_data(self, nrow=None):\n",
        "\n",
        "        url = 'https://raw.githubusercontent.com/CSSEGISandData/COVID-19/master'\n",
        "        path = f'{url}/csse_covid_19_data/csse_covid_19_time_series' \n",
        "\n",
        "        # \n",
        "\n",
        "        url = f'{path}/time_series_covid19_confirmed_global.csv'\n",
        "        confirmed = fix_region_name(pd.read_csv(url, nrows=nrow, error_bad_lines=False))\n",
        "        #\n",
        "        url = f'{path}/time_series_covid19_deaths_global.csv'\n",
        "        dead = fix_region_name(pd.read_csv(url, nrows=nrow, error_bad_lines=False))\n",
        "        #\n",
        "        url = f'{path}/time_series_covid19_recovered_global.csv'\n",
        "\n",
        "        recovered = fix_region_name(pd.read_csv(url, nrows=nrow, error_bad_lines=False))\n",
        "#         print(confirmed.head())\n",
        "#         print(dead.head())\n",
        "\n",
        "        #\n",
        "        return confirmed, dead, recovered"
      ],
      "execution_count": 4,
      "outputs": []
    },
    {
      "cell_type": "code",
      "metadata": {
        "id": "WOCSFXDIu7O-",
        "colab_type": "code",
        "colab": {}
      },
      "source": [
        "cd = covid_data()\n",
        "cd.confirmed.head()\n",
        "countries = ['Senegal']\n",
        "mm = cd.search_agg(countries)"
      ],
      "execution_count": 5,
      "outputs": []
    },
    {
      "cell_type": "code",
      "metadata": {
        "id": "IfHHdG2-u7PC",
        "colab_type": "code",
        "colab": {}
      },
      "source": [
        "for ix, ctype in enumerate(['confirmed', 'dead', 'recovered']):\n",
        "    df = mm[ctype].stack().reset_index()\n",
        "    #print(df.head())\n",
        "    df = df.rename(columns={'level_0':'date','level_1':'country',0:ctype})     \n",
        "    if ix==0:\n",
        "        df['date'] = pd.to_datetime(df['date'])\n",
        "        dfall = df\n",
        "    else:\n",
        "        dfall[ctype] = df[ctype]"
      ],
      "execution_count": 6,
      "outputs": []
    },
    {
      "cell_type": "code",
      "metadata": {
        "id": "wQBHQtyEu7PI",
        "colab_type": "code",
        "colab": {
          "base_uri": "https://localhost:8080/",
          "height": 204
        },
        "outputId": "cd9094be-97d1-43df-b587-abd318377c00"
      },
      "source": [
        "dfall.head()"
      ],
      "execution_count": 7,
      "outputs": [
        {
          "output_type": "execute_result",
          "data": {
            "text/html": [
              "<div>\n",
              "<style scoped>\n",
              "    .dataframe tbody tr th:only-of-type {\n",
              "        vertical-align: middle;\n",
              "    }\n",
              "\n",
              "    .dataframe tbody tr th {\n",
              "        vertical-align: top;\n",
              "    }\n",
              "\n",
              "    .dataframe thead th {\n",
              "        text-align: right;\n",
              "    }\n",
              "</style>\n",
              "<table border=\"1\" class=\"dataframe\">\n",
              "  <thead>\n",
              "    <tr style=\"text-align: right;\">\n",
              "      <th></th>\n",
              "      <th>date</th>\n",
              "      <th>country</th>\n",
              "      <th>confirmed</th>\n",
              "      <th>dead</th>\n",
              "      <th>recovered</th>\n",
              "    </tr>\n",
              "  </thead>\n",
              "  <tbody>\n",
              "    <tr>\n",
              "      <th>0</th>\n",
              "      <td>2020-01-22</td>\n",
              "      <td>Senegal</td>\n",
              "      <td>0</td>\n",
              "      <td>0</td>\n",
              "      <td>0</td>\n",
              "    </tr>\n",
              "    <tr>\n",
              "      <th>1</th>\n",
              "      <td>2020-01-23</td>\n",
              "      <td>Senegal</td>\n",
              "      <td>0</td>\n",
              "      <td>0</td>\n",
              "      <td>0</td>\n",
              "    </tr>\n",
              "    <tr>\n",
              "      <th>2</th>\n",
              "      <td>2020-01-24</td>\n",
              "      <td>Senegal</td>\n",
              "      <td>0</td>\n",
              "      <td>0</td>\n",
              "      <td>0</td>\n",
              "    </tr>\n",
              "    <tr>\n",
              "      <th>3</th>\n",
              "      <td>2020-01-25</td>\n",
              "      <td>Senegal</td>\n",
              "      <td>0</td>\n",
              "      <td>0</td>\n",
              "      <td>0</td>\n",
              "    </tr>\n",
              "    <tr>\n",
              "      <th>4</th>\n",
              "      <td>2020-01-26</td>\n",
              "      <td>Senegal</td>\n",
              "      <td>0</td>\n",
              "      <td>0</td>\n",
              "      <td>0</td>\n",
              "    </tr>\n",
              "  </tbody>\n",
              "</table>\n",
              "</div>"
            ],
            "text/plain": [
              "        date  country  confirmed  dead  recovered\n",
              "0 2020-01-22  Senegal          0     0          0\n",
              "1 2020-01-23  Senegal          0     0          0\n",
              "2 2020-01-24  Senegal          0     0          0\n",
              "3 2020-01-25  Senegal          0     0          0\n",
              "4 2020-01-26  Senegal          0     0          0"
            ]
          },
          "metadata": {
            "tags": []
          },
          "execution_count": 7
        }
      ]
    },
    {
      "cell_type": "code",
      "metadata": {
        "id": "QiIP7B9Tu7PP",
        "colab_type": "code",
        "colab": {
          "base_uri": "https://localhost:8080/",
          "height": 119
        },
        "outputId": "6bf1afe8-f6ff-487e-d521-3e8168acd509"
      },
      "source": [
        "dfall.nunique()"
      ],
      "execution_count": 8,
      "outputs": [
        {
          "output_type": "execute_result",
          "data": {
            "text/plain": [
              "date         198\n",
              "country        1\n",
              "confirmed    148\n",
              "dead          85\n",
              "recovered    137\n",
              "dtype: int64"
            ]
          },
          "metadata": {
            "tags": []
          },
          "execution_count": 8
        }
      ]
    },
    {
      "cell_type": "code",
      "metadata": {
        "id": "N7VAv8htu7PU",
        "colab_type": "code",
        "colab": {
          "base_uri": "https://localhost:8080/",
          "height": 119
        },
        "outputId": "82c2d50f-533e-403e-e777-31506d8a9afc"
      },
      "source": [
        "dfall.max()"
      ],
      "execution_count": 9,
      "outputs": [
        {
          "output_type": "execute_result",
          "data": {
            "text/plain": [
              "date         2020-08-06 00:00:00\n",
              "country                  Senegal\n",
              "confirmed                  10715\n",
              "dead                         223\n",
              "recovered                   7101\n",
              "dtype: object"
            ]
          },
          "metadata": {
            "tags": []
          },
          "execution_count": 9
        }
      ]
    },
    {
      "cell_type": "code",
      "metadata": {
        "id": "oVLn36i7u7PX",
        "colab_type": "code",
        "colab": {}
      },
      "source": [
        "end_train_date = datetime.datetime(2020, 7, 25)\n",
        "# train_sen_df = sen_df_confiremed.loc[:end_train_date]\n",
        "# test_sen_df = sen_df_confiremed.loc[end_train_date:]\n",
        "\n",
        "# print(train_sen_df.shape, test_sen_df.shape)"
      ],
      "execution_count": 10,
      "outputs": []
    },
    {
      "cell_type": "code",
      "metadata": {
        "id": "Jct05KSKu7Pa",
        "colab_type": "code",
        "colab": {}
      },
      "source": [
        "df = dfall[dfall['confirmed'] > 100]"
      ],
      "execution_count": 11,
      "outputs": []
    },
    {
      "cell_type": "code",
      "metadata": {
        "id": "QSkqDtHxu7Pd",
        "colab_type": "code",
        "colab": {
          "base_uri": "https://localhost:8080/",
          "height": 235
        },
        "outputId": "0db51e40-79ce-44f2-bd53-df407ac7f8f7"
      },
      "source": [
        "df.set_index('date', inplace=True)\n",
        "df.head()"
      ],
      "execution_count": 12,
      "outputs": [
        {
          "output_type": "execute_result",
          "data": {
            "text/html": [
              "<div>\n",
              "<style scoped>\n",
              "    .dataframe tbody tr th:only-of-type {\n",
              "        vertical-align: middle;\n",
              "    }\n",
              "\n",
              "    .dataframe tbody tr th {\n",
              "        vertical-align: top;\n",
              "    }\n",
              "\n",
              "    .dataframe thead th {\n",
              "        text-align: right;\n",
              "    }\n",
              "</style>\n",
              "<table border=\"1\" class=\"dataframe\">\n",
              "  <thead>\n",
              "    <tr style=\"text-align: right;\">\n",
              "      <th></th>\n",
              "      <th>country</th>\n",
              "      <th>confirmed</th>\n",
              "      <th>dead</th>\n",
              "      <th>recovered</th>\n",
              "    </tr>\n",
              "    <tr>\n",
              "      <th>date</th>\n",
              "      <th></th>\n",
              "      <th></th>\n",
              "      <th></th>\n",
              "      <th></th>\n",
              "    </tr>\n",
              "  </thead>\n",
              "  <tbody>\n",
              "    <tr>\n",
              "      <th>2020-03-26</th>\n",
              "      <td>Senegal</td>\n",
              "      <td>105</td>\n",
              "      <td>0</td>\n",
              "      <td>9</td>\n",
              "    </tr>\n",
              "    <tr>\n",
              "      <th>2020-03-27</th>\n",
              "      <td>Senegal</td>\n",
              "      <td>119</td>\n",
              "      <td>0</td>\n",
              "      <td>11</td>\n",
              "    </tr>\n",
              "    <tr>\n",
              "      <th>2020-03-28</th>\n",
              "      <td>Senegal</td>\n",
              "      <td>130</td>\n",
              "      <td>0</td>\n",
              "      <td>18</td>\n",
              "    </tr>\n",
              "    <tr>\n",
              "      <th>2020-03-29</th>\n",
              "      <td>Senegal</td>\n",
              "      <td>142</td>\n",
              "      <td>0</td>\n",
              "      <td>27</td>\n",
              "    </tr>\n",
              "    <tr>\n",
              "      <th>2020-03-30</th>\n",
              "      <td>Senegal</td>\n",
              "      <td>162</td>\n",
              "      <td>0</td>\n",
              "      <td>27</td>\n",
              "    </tr>\n",
              "  </tbody>\n",
              "</table>\n",
              "</div>"
            ],
            "text/plain": [
              "            country  confirmed  dead  recovered\n",
              "date                                           \n",
              "2020-03-26  Senegal        105     0          9\n",
              "2020-03-27  Senegal        119     0         11\n",
              "2020-03-28  Senegal        130     0         18\n",
              "2020-03-29  Senegal        142     0         27\n",
              "2020-03-30  Senegal        162     0         27"
            ]
          },
          "metadata": {
            "tags": []
          },
          "execution_count": 12
        }
      ]
    },
    {
      "cell_type": "code",
      "metadata": {
        "id": "56tkkCryu7Ph",
        "colab_type": "code",
        "colab": {
          "base_uri": "https://localhost:8080/",
          "height": 34
        },
        "outputId": "9ad6da5f-f667-4dd3-acd7-a4e3bad293e4"
      },
      "source": [
        "d_df = df.drop('country', axis=1)\n",
        "train_df = d_df['confirmed'].loc[:end_train_date]\n",
        "test_df = d_df['confirmed'].loc[end_train_date:]\n",
        "\n",
        "print(train_df.shape, test_df.shape)"
      ],
      "execution_count": 13,
      "outputs": [
        {
          "output_type": "stream",
          "text": [
            "(122,) (13,)\n"
          ],
          "name": "stdout"
        }
      ]
    },
    {
      "cell_type": "code",
      "metadata": {
        "id": "7q2nl8Zbu7Pm",
        "colab_type": "code",
        "colab": {
          "base_uri": "https://localhost:8080/",
          "height": 325
        },
        "outputId": "ceec650b-3e5e-4da6-f98f-e160f3e09930"
      },
      "source": [
        "d_df['recovered'].plot()"
      ],
      "execution_count": 14,
      "outputs": [
        {
          "output_type": "stream",
          "text": [
            "INFO     [numexpr.utils] NumExpr defaulting to 2 threads.\n"
          ],
          "name": "stderr"
        },
        {
          "output_type": "execute_result",
          "data": {
            "text/plain": [
              "<matplotlib.axes._subplots.AxesSubplot at 0x7f4cff1d1f28>"
            ]
          },
          "metadata": {
            "tags": []
          },
          "execution_count": 14
        },
        {
          "output_type": "display_data",
          "data": {
            "image/png": "[encoded data removed]",
            "text/plain": [
              "<Figure size 432x288 with 1 Axes>"
            ]
          },
          "metadata": {
            "tags": [],
            "needs_background": "light"
          }
        }
      ]
    },
    {
      "cell_type": "code",
      "metadata": {
        "id": "4FZkscPHu7Pp",
        "colab_type": "code",
        "colab": {
          "base_uri": "https://localhost:8080/",
          "height": 308
        },
        "outputId": "e8f34302-71d3-4cef-f0d8-7078ec898241"
      },
      "source": [
        "d_df['dead'].plot()"
      ],
      "execution_count": 15,
      "outputs": [
        {
          "output_type": "execute_result",
          "data": {
            "text/plain": [
              "<matplotlib.axes._subplots.AxesSubplot at 0x7f4cfde5d828>"
            ]
          },
          "metadata": {
            "tags": []
          },
          "execution_count": 15
        },
        {
          "output_type": "display_data",
          "data": {
            "image/png": "[encoded data removed]",
            "text/plain": [
              "<Figure size 432x288 with 1 Axes>"
            ]
          },
          "metadata": {
            "tags": [],
            "needs_background": "light"
          }
        }
      ]
    },
    {
      "cell_type": "code",
      "metadata": {
        "id": "Kk4NJcSgu7Pw",
        "colab_type": "code",
        "colab": {},
        "outputId": "b76d0f19-1fc5-4f55-86ae-8a536be38fe7"
      },
      "source": [
        "# jhu = cov19.data_retrieval.JHU()\n",
        "# jhu.download_all_available_data()\n",
        "\n",
        "# sen_df = jhu.get_total_confirmed_deaths_recovered('Senegal')\n",
        "# sen_df.shape"
      ],
      "execution_count": null,
      "outputs": [
        {
          "output_type": "stream",
          "text": [
            "INFO     [covid19_inference.data_retrieval._JHU] Successfully loaded data from local\n"
          ],
          "name": "stderr"
        },
        {
          "output_type": "execute_result",
          "data": {
            "text/plain": [
              "(195, 3)"
            ]
          },
          "metadata": {
            "tags": []
          },
          "execution_count": 3
        }
      ]
    },
    {
      "cell_type": "markdown",
      "metadata": {
        "id": "WwKN7ckBu7P1",
        "colab_type": "text"
      },
      "source": [
        "**Filter Data to contain cases greater than or equals to 100**"
      ]
    },
    {
      "cell_type": "markdown",
      "metadata": {
        "id": "R7nxhoVRu7P7",
        "colab_type": "text"
      },
      "source": [
        "**Check for missing Dates**"
      ]
    },
    {
      "cell_type": "markdown",
      "metadata": {
        "id": "V4roX3WGu7QQ",
        "colab_type": "text"
      },
      "source": [
        "No data with missing dates"
      ]
    },
    {
      "cell_type": "markdown",
      "metadata": {
        "id": "tVpCOsXwu7QR",
        "colab_type": "text"
      },
      "source": [
        "**Split the data for inference and validation forecast**"
      ]
    },
    {
      "cell_type": "code",
      "metadata": {
        "id": "_kMGUdcyu7QS",
        "colab_type": "code",
        "colab": {},
        "outputId": "4bbbb360-0d1a-489f-ab1e-6003937acbe2"
      },
      "source": [
        "end_train_date = datetime.datetime(2020, 7, 25)\n",
        "# train_sen_df = sen_df_confiremed.loc[:end_train_date]\n",
        "# test_sen_df = sen_df_confiremed.loc[end_train_date:]\n",
        "\n",
        "# print(train_sen_df.shape, test_sen_df.shape)"
      ],
      "execution_count": null,
      "outputs": [
        {
          "output_type": "stream",
          "text": [
            "(122,) (10,)\n"
          ],
          "name": "stdout"
        }
      ]
    },
    {
      "cell_type": "code",
      "metadata": {
        "id": "-nLcBcvnu7QV",
        "colab_type": "code",
        "colab": {}
      },
      "source": [
        "bd = datetime.datetime(2020, 3, 26)  # For the date filter\n",
        "ed = datetime.datetime(2020, 8, 10)"
      ],
      "execution_count": 16,
      "outputs": []
    },
    {
      "cell_type": "markdown",
      "metadata": {
        "id": "RWTqBFVyu7QY",
        "colab_type": "text"
      },
      "source": [
        "### Create Model\n",
        "first we need to set the priors for the change points and other configs"
      ]
    },
    {
      "cell_type": "code",
      "metadata": {
        "id": "TLX0GG6Bu7QZ",
        "colab_type": "code",
        "colab": {}
      },
      "source": [
        "diff_data_sim = 18  # should be significantly larger than the expected delay, in\n",
        "# order to always fit the same number of data points.\n",
        "num_days_forecast = 14"
      ],
      "execution_count": 17,
      "outputs": []
    },
    {
      "cell_type": "code",
      "metadata": {
        "id": "rG9De4ORu7Qg",
        "colab_type": "code",
        "colab": {}
      },
      "source": [
        "# We set the priors for the changepoints here\n",
        "prior_date_mild_dist_begin = datetime.datetime(2020, 3, 15)\n",
        "prior_date_strong_dist_begin = datetime.datetime(2020, 3, 23)\n",
        "prior_date_contact_ban_begin = datetime.datetime(2020, 3, 31)"
      ],
      "execution_count": 18,
      "outputs": []
    },
    {
      "cell_type": "code",
      "metadata": {
        "id": "-YsZDVPou7Qm",
        "colab_type": "code",
        "colab": {}
      },
      "source": [
        "change_points = [\n",
        "    dict(\n",
        "        pr_mean_date_transient=prior_date_mild_dist_begin,\n",
        "        pr_sigma_date_transient=3,\n",
        "        pr_median_lambda=0.2,\n",
        "        pr_sigma_lambda=1,\n",
        "    ),\n",
        "    dict(\n",
        "        pr_mean_date_transient=prior_date_strong_dist_begin,\n",
        "        pr_sigma_date_transient=1.5,\n",
        "        pr_median_lambda=1 / 8,\n",
        "        pr_sigma_lambda=1,\n",
        "    ),\n",
        "    dict(\n",
        "        pr_mean_date_transient=prior_date_contact_ban_begin,\n",
        "        pr_sigma_date_transient=1.5,\n",
        "        pr_median_lambda=1 / 8 / 2,\n",
        "        pr_sigma_lambda=1,\n",
        "    ),\n",
        "]"
      ],
      "execution_count": 19,
      "outputs": []
    },
    {
      "cell_type": "code",
      "metadata": {
        "id": "0_E_jDuHu7Qo",
        "colab_type": "code",
        "colab": {}
      },
      "source": [
        "params_model = dict(\n",
        "    new_cases_obs=train_df,\n",
        "    data_begin=bd,\n",
        "    fcast_len=num_days_forecast,\n",
        "    diff_data_sim=diff_data_sim,\n",
        "    N_population=15e6,\n",
        ")\n",
        "# Median of the prior for the delay in case reporting, we assume 10 days\n",
        "pr_delay = 10"
      ],
      "execution_count": 20,
      "outputs": []
    },
    {
      "cell_type": "markdown",
      "metadata": {
        "id": "1ddQZosuu7Qr",
        "colab_type": "text"
      },
      "source": [
        "\n",
        "\n",
        "The model is specified in a context. Each function in this context\n",
        "has access to the model parameters set.\n"
      ]
    },
    {
      "cell_type": "code",
      "metadata": {
        "id": "J4Bn_JhJu7Qr",
        "colab_type": "code",
        "colab": {
          "base_uri": "https://localhost:8080/",
          "height": 306
        },
        "outputId": "5d2a166a-601f-4b61-8997-9b0d69669e85"
      },
      "source": [
        "with cov19.model.Cov19Model(**params_model) as this_model:\n",
        "    # Create the an array of the time dependent infection rate lambda\n",
        "    lambda_t_log = cov19.model.lambda_t_with_sigmoids(\n",
        "        pr_median_lambda_0=0.4,\n",
        "        pr_sigma_lambda_0=0.5,\n",
        "        change_points_list=change_points,  # The change point priors we constructed earlier\n",
        "        name_lambda_t=\"lambda_t\",  # Name for the variable in the trace (see later)\n",
        "    )\n",
        "\n",
        "    # set prior distribution for the recovery rate\n",
        "    mu = pm.Lognormal(name=\"mu\", mu=np.log(1 / 8), sigma=0.2)\n",
        "\n",
        "    # This builds a decorrelated prior for I_begin for faster inference.\n",
        "    # It is not necessary to use it, one can simply remove it and use the default argument\n",
        "    # for pr_I_begin in cov19.SIR\n",
        "    prior_I = cov19.model.uncorrelated_prior_I(\n",
        "        lambda_t_log=lambda_t_log,\n",
        "        mu=mu,\n",
        "        pr_median_delay=pr_delay,\n",
        "        name_I_begin=\"I_begin\",\n",
        "        name_I_begin_ratio_log=\"I_begin_ratio_log\",\n",
        "        pr_sigma_I_begin=2,\n",
        "        n_data_points_used=5,\n",
        "    )\n",
        "\n",
        "    # Use lambda_t_log and mu to run the SIR model\n",
        "    new_cases = cov19.model.SIR(\n",
        "        lambda_t_log=lambda_t_log,\n",
        "        mu=mu,\n",
        "        name_new_I_t=\"new_I_t\",\n",
        "        name_I_t=\"I_t\",\n",
        "        name_I_begin=\"I_begin\",\n",
        "        pr_I_begin=prior_I,\n",
        "    )\n",
        "\n",
        "    # Delay the cases by a lognormal reporting delay\n",
        "    new_cases = cov19.model.delay_cases(\n",
        "        cases=new_cases,\n",
        "        name_cases=\"delayed_cases\",\n",
        "        name_delay=\"delay\",\n",
        "        name_width=\"delay-width\",\n",
        "        pr_mean_of_median=pr_delay,\n",
        "        pr_sigma_of_median=0.2,\n",
        "        pr_median_of_width=0.3,\n",
        "    )\n",
        "\n",
        "    # Modulate the inferred cases by a abs(sin(x)) function, to account for weekend effects\n",
        "    # Also adds the \"new_cases\" variable to the trace that has all model features.\n",
        "    new_cases = cov19.model.week_modulation(\n",
        "        cases=new_cases,\n",
        "        name_cases=\"new_cases\",\n",
        "        name_weekend_factor=\"weekend_factor\",\n",
        "        name_offset_modulation=\"offset_modulation\",\n",
        "        week_modulation_type=\"abs_sine\",\n",
        "        pr_mean_weekend_factor=0.3,\n",
        "        pr_sigma_weekend_factor=0.5,\n",
        "        weekend_days=(6, 7),\n",
        "    )\n",
        "\n",
        "    # Define the likelihood, uses the new_cases_obs set as model parameter\n",
        "    cov19.model.student_t_likelihood(new_cases)"
      ],
      "execution_count": 21,
      "outputs": [
        {
          "output_type": "stream",
          "text": [
            "INFO     [covid19_inference.model.spreading_rate] Lambda_t with sigmoids\n",
            "INFO     [covid19_inference.model.model] pr_median_transient_len was set to default value 4\n",
            "INFO     [covid19_inference.model.model] pr_sigma_transient_len was set to default value 0.5\n",
            "INFO     [covid19_inference.model.model] relative_to_previous was set to default value False\n",
            "INFO     [covid19_inference.model.model] pr_factor_to_previous was set to default value 1\n",
            "INFO     [covid19_inference.model.model] pr_median_transient_len was set to default value 4\n",
            "INFO     [covid19_inference.model.model] pr_sigma_transient_len was set to default value 0.5\n",
            "INFO     [covid19_inference.model.model] relative_to_previous was set to default value False\n",
            "INFO     [covid19_inference.model.model] pr_factor_to_previous was set to default value 1\n",
            "INFO     [covid19_inference.model.model] pr_median_transient_len was set to default value 4\n",
            "INFO     [covid19_inference.model.model] pr_sigma_transient_len was set to default value 0.5\n",
            "INFO     [covid19_inference.model.model] relative_to_previous was set to default value False\n",
            "INFO     [covid19_inference.model.model] pr_factor_to_previous was set to default value 1\n",
            "INFO     [covid19_inference.model.compartmental_models] Uncorrelated prior_I\n",
            "INFO     [covid19_inference.model.compartmental_models] SIR\n",
            "INFO     [covid19_inference.model.delay] Delaying cases\n",
            "INFO     [covid19_inference.model.week_modulation] Week modulation\n"
          ],
          "name": "stderr"
        }
      ]
    },
    {
      "cell_type": "markdown",
      "metadata": {
        "id": "sNVrtmMvu7Qu",
        "colab_type": "text"
      },
      "source": [
        "## MCMC sampling\n",
        "\n",
        "After the model is built, it is sampled using an MCMC sampler.\n",
        "The number of parallel runs can be set with the argument `cores=`.\n",
        "In particular, due to a bug in Theano, Windows users should set `cores=1`.\n",
        "The sampling can take a long time.\n"
      ]
    },
    {
      "cell_type": "code",
      "metadata": {
        "id": "49Eow_Gcu7Qw",
        "colab_type": "code",
        "colab": {
          "base_uri": "https://localhost:8080/",
          "height": 564
        },
        "outputId": "ead399c4-a049-4744-98b2-08118688e412"
      },
      "source": [
        "trace = pm.sample(model=this_model, tune=300, draws=350, cores=3)"
      ],
      "execution_count": 23,
      "outputs": [
        {
          "output_type": "stream",
          "text": [
            "Only 350 samples in chain.\n",
            "WARNING  [pymc3] Only 350 samples in chain.\n",
            "Auto-assigning NUTS sampler...\n",
            "INFO     [pymc3] Auto-assigning NUTS sampler...\n",
            "Initializing NUTS using jitter+adapt_diag...\n",
            "INFO     [pymc3] Initializing NUTS using jitter+adapt_diag...\n",
            "Multiprocess sampling (3 chains in 3 jobs)\n",
            "INFO     [pymc3] Multiprocess sampling (3 chains in 3 jobs)\n",
            "NUTS: [sigma_obs, offset_modulation_rad, weekend_factor_log, delay_log, I_begin_ratio_log, mu, transient_len_3_log_, transient_len_2_log_, transient_len_1_log_, transient_day_3, transient_day_2, transient_day_1, lambda_3_log_, lambda_2_log_, lambda_1_log_, lambda_0_log_]\n",
            "INFO     [pymc3] NUTS: [sigma_obs, offset_modulation_rad, weekend_factor_log, delay_log, I_begin_ratio_log, mu, transient_len_3_log_, transient_len_2_log_, transient_len_1_log_, transient_day_3, transient_day_2, transient_day_1, lambda_3_log_, lambda_2_log_, lambda_1_log_, lambda_0_log_]\n",
            "Sampling 3 chains: 100%|██████████| 1950/1950 [3:07:02<00:00,  5.76s/draws]\n",
            "The acceptance probability does not match the target. It is 0.8937721128779658, but should be close to 0.8. Try to increase the number of tuning steps.\n",
            "WARNING  [pymc3] The acceptance probability does not match the target. It is 0.8937721128779658, but should be close to 0.8. Try to increase the number of tuning steps.\n",
            "The chain reached the maximum tree depth. Increase max_treedepth, increase target_accept or reparameterize.\n",
            "WARNING  [pymc3] The chain reached the maximum tree depth. Increase max_treedepth, increase target_accept or reparameterize.\n",
            "There was 1 divergence after tuning. Increase `target_accept` or reparameterize.\n",
            "ERROR    [pymc3] There was 1 divergence after tuning. Increase `target_accept` or reparameterize.\n",
            "The acceptance probability does not match the target. It is 0.31188984094545713, but should be close to 0.8. Try to increase the number of tuning steps.\n",
            "WARNING  [pymc3] The acceptance probability does not match the target. It is 0.31188984094545713, but should be close to 0.8. Try to increase the number of tuning steps.\n",
            "The chain reached the maximum tree depth. Increase max_treedepth, increase target_accept or reparameterize.\n",
            "WARNING  [pymc3] The chain reached the maximum tree depth. Increase max_treedepth, increase target_accept or reparameterize.\n",
            "There were 3 divergences after tuning. Increase `target_accept` or reparameterize.\n",
            "ERROR    [pymc3] There were 3 divergences after tuning. Increase `target_accept` or reparameterize.\n",
            "The acceptance probability does not match the target. It is 0.14169936117808696, but should be close to 0.8. Try to increase the number of tuning steps.\n",
            "WARNING  [pymc3] The acceptance probability does not match the target. It is 0.14169936117808696, but should be close to 0.8. Try to increase the number of tuning steps.\n",
            "The chain reached the maximum tree depth. Increase max_treedepth, increase target_accept or reparameterize.\n",
            "WARNING  [pymc3] The chain reached the maximum tree depth. Increase max_treedepth, increase target_accept or reparameterize.\n",
            "The gelman-rubin statistic is larger than 1.4 for some parameters. The sampler did not converge.\n",
            "ERROR    [pymc3] The gelman-rubin statistic is larger than 1.4 for some parameters. The sampler did not converge.\n",
            "The estimated number of effective samples is smaller than 200 for some parameters.\n",
            "ERROR    [pymc3] The estimated number of effective samples is smaller than 200 for some parameters.\n"
          ],
          "name": "stderr"
        }
      ]
    },
    {
      "cell_type": "markdown",
      "metadata": {
        "id": "ixVt472nu7Qz",
        "colab_type": "text"
      },
      "source": [
        "## Plotting\n",
        "Plotting tools are rudimentary right now. But one can always write custom plotting function\n",
        "by accessing the samples stored in the trace.\n",
        "\n",
        "### Distributions\n"
      ]
    },
    {
      "cell_type": "code",
      "metadata": {
        "id": "clpvXz7Iu7Q0",
        "colab_type": "code",
        "colab": {
          "base_uri": "https://localhost:8080/",
          "height": 704
        },
        "outputId": "797a5fbc-c627-41e2-8d8f-547c5d8c024c"
      },
      "source": [
        "fig, axes = plt.subplots(6, 3, figsize=(12, 11))\n",
        "varnames = this_model.untransformed_freeRVs\n",
        "print(\"Possible varnames are :\")\n",
        "print(varnames)"
      ],
      "execution_count": 24,
      "outputs": [
        {
          "output_type": "stream",
          "text": [
            "Possible varnames are :\n",
            "['lambda_0_log_', 'lambda_1_log_', 'lambda_2_log_', 'lambda_3_log_', 'transient_day_1', 'transient_day_2', 'transient_day_3', 'transient_len_1_log_', 'transient_len_2_log_', 'transient_len_3_log_', 'mu', 'I_begin_ratio_log', 'delay_log', 'weekend_factor_log', 'offset_modulation_rad_circular__', 'sigma_obs']\n"
          ],
          "name": "stdout"
        },
        {
          "output_type": "display_data",
          "data": {
            "image/png": "[encoded data removed]",
            "text/plain": [
              "<Figure size 864x792 with 18 Axes>"
            ]
          },
          "metadata": {
            "tags": [],
            "needs_background": "light"
          }
        }
      ]
    },
    {
      "cell_type": "code",
      "metadata": {
        "id": "LdVp8cLmu7Q3",
        "colab_type": "code",
        "colab": {}
      },
      "source": [
        "for i, key in enumerate(\n",
        "    # left column\n",
        "    [\"weekend_factor\", \"mu\", \"lambda_0\", \"lambda_1\", \"lambda_2\", \"lambda_3\"]\n",
        "):\n",
        "    cov19.plot._distribution(this_model, trace, key, ax=axes[i, 0]) "
      ],
      "execution_count": 25,
      "outputs": []
    },
    {
      "cell_type": "code",
      "metadata": {
        "id": "F9NECKOTu7Q5",
        "colab_type": "code",
        "colab": {}
      },
      "source": [
        "for i, key in enumerate(\n",
        "    # mid column\n",
        "    [\n",
        "        \"offset_modulation\",\n",
        "        \"sigma_obs\",\n",
        "        \"I_begin\",\n",
        "        \"transient_day_1\",\n",
        "        \"transient_day_2\",\n",
        "        \"transient_day_3\",\n",
        "    ]\n",
        "):\n",
        "    cov19.plot._distribution(this_model, trace, key, ax=axes[i, 1])"
      ],
      "execution_count": 26,
      "outputs": []
    },
    {
      "cell_type": "code",
      "metadata": {
        "id": "_DVBV6eyu7Q8",
        "colab_type": "code",
        "colab": {}
      },
      "source": [
        "for i, key in enumerate(\n",
        "    # right column\n",
        "    [\"delay\", \"transient_len_1\", \"transient_len_2\", \"transient_len_3\",]\n",
        "):\n",
        "    cov19.plot._distribution(this_model, trace, key, ax=axes[i + 2, 2])"
      ],
      "execution_count": 27,
      "outputs": []
    },
    {
      "cell_type": "code",
      "metadata": {
        "id": "PEV3SjyOu7Q_",
        "colab_type": "code",
        "colab": {
          "base_uri": "https://localhost:8080/",
          "height": 801
        },
        "outputId": "3de1c62c-b025-4fab-fce3-1890b4630aeb"
      },
      "source": [
        "fig.tight_layout()\n",
        "fig #To print in jupyter notebook"
      ],
      "execution_count": 28,
      "outputs": [
        {
          "output_type": "execute_result",
          "data": {
            "image/png": "[encoded data removed]",
            "text/plain": [
              "<Figure size 864x792 with 18 Axes>"
            ]
          },
          "metadata": {
            "tags": []
          },
          "execution_count": 28
        }
      ]
    },
    {
      "cell_type": "markdown",
      "metadata": {
        "id": "he3NJq0xVAv8",
        "colab_type": "text"
      },
      "source": [
        "\n",
        "### Timeseries\n",
        "timeseries overview, for now needs an offset variable to get cumulative cases\n"
      ]
    },
    {
      "cell_type": "code",
      "metadata": {
        "id": "Q48Wjy2lVVCU",
        "colab_type": "code",
        "colab": {
          "base_uri": "https://localhost:8080/",
          "height": 492
        },
        "outputId": "688562d4-8fbd-4fb0-a5ec-0a404e469a84"
      },
      "source": [
        "fig, axes = cov19.plot.timeseries_overview(this_model, trace, offset=-3000)"
      ],
      "execution_count": 29,
      "outputs": [
        {
          "output_type": "display_data",
          "data": {
            "image/png": "[encoded data removed]",
            "text/plain": [
              "<Figure size 432x432 with 3 Axes>"
            ]
          },
          "metadata": {
            "tags": [],
            "needs_background": "light"
          }
        }
      ]
    },
    {
      "cell_type": "markdown",
      "metadata": {
        "id": "-1SirfP7u7RF",
        "colab_type": "text"
      },
      "source": [
        "### Get Policies Implemented by Countries"
      ]
    },
    {
      "cell_type": "code",
      "metadata": {
        "id": "a3DbwZ9Ou7RG",
        "colab_type": "code",
        "colab": {
          "base_uri": "https://localhost:8080/",
          "height": 51
        },
        "outputId": "16db160f-12bb-4f72-8230-0a75ae863b46"
      },
      "source": [
        "gov_pol = cov19.data_retrieval.OxCGRT()\n",
        "gov_pol.download_all_available_data()"
      ],
      "execution_count": 30,
      "outputs": [
        {
          "output_type": "stream",
          "text": [
            "INFO     [covid19_inference.data_retrieval.retrieval] Successfully downloaded new files.\n",
            "INFO     [covid19_inference.data_retrieval.retrieval] Local backup to /tmp/covid19_data/OxCGRT.csv.gz successful.\n"
          ],
          "name": "stderr"
        }
      ]
    },
    {
      "cell_type": "code",
      "metadata": {
        "id": "3zawFn-p_vsv",
        "colab_type": "code",
        "colab": {
          "base_uri": "https://localhost:8080/",
          "height": 323
        },
        "outputId": "c85ed0db-d210-406f-c86b-693d9929952e"
      },
      "source": [
        "gov_pol.get_possible_policies()"
      ],
      "execution_count": 34,
      "outputs": [
        {
          "output_type": "execute_result",
          "data": {
            "text/plain": [
              "{'containment and closure policies': ['C1_School closing',\n",
              "  'C2_Workplace closing',\n",
              "  'C3_Cancel public events',\n",
              "  'C4_Restrictions on gatherings',\n",
              "  'C5_Close public transport',\n",
              "  'C6_Stay at home requirements',\n",
              "  'C7_Restrictions on internal movement',\n",
              "  'C8_International travel controls'],\n",
              " 'economic policies': ['E1_Income support',\n",
              "  'E2_Debt/contract relief',\n",
              "  'E3_Fiscal measures',\n",
              "  'E4_International support'],\n",
              " 'health system policies': ['H1_Public information campaigns',\n",
              "  'H2_Testing policy',\n",
              "  'H3_Contact tracing',\n",
              "  'H4_Emergency investment in healthcare',\n",
              "  'H5_Investment in vaccines'],\n",
              " 'miscellaneous policies': ['M1_Wildcard']}"
            ]
          },
          "metadata": {
            "tags": []
          },
          "execution_count": 34
        }
      ]
    },
    {
      "cell_type": "code",
      "metadata": {
        "id": "SBElN4wZ_73v",
        "colab_type": "code",
        "colab": {
          "base_uri": "https://localhost:8080/",
          "height": 629
        },
        "outputId": "2d9ce64d-1910-4fdd-f143-e6002a002ec1"
      },
      "source": [
        "gov_pol.get_possible_countries()"
      ],
      "execution_count": 35,
      "outputs": [
        {
          "output_type": "execute_result",
          "data": {
            "text/plain": [
              "array(['Aruba', 'Afghanistan', 'Angola', 'Albania', 'Andorra',\n",
              "       'United Arab Emirates', 'Argentina', 'Australia', 'Austria',\n",
              "       'Azerbaijan', 'Burundi', 'Belgium', 'Benin', 'Burkina Faso',\n",
              "       'Bangladesh', 'Bulgaria', 'Bahrain', 'Bosnia and Herzegovina',\n",
              "       'Belarus', 'Belize', 'Bermuda', 'Bolivia', 'Brazil', 'Barbados',\n",
              "       'Brunei', 'Bhutan', 'Botswana', 'Central African Republic',\n",
              "       'Canada', 'Switzerland', 'Chile', 'China', \"Cote d'Ivoire\",\n",
              "       'Cameroon', 'Democratic Republic of Congo', 'Congo', 'Colombia',\n",
              "       'Cape Verde', 'Costa Rica', 'Cuba', 'Cayman Islands', 'Cyprus',\n",
              "       'Czech Republic', 'Germany', 'Djibouti', 'Dominica', 'Denmark',\n",
              "       'Dominican Republic', 'Algeria', 'Ecuador', 'Egypt', 'Eritrea',\n",
              "       'Spain', 'Estonia', 'Ethiopia', 'Finland', 'Fiji', 'France',\n",
              "       'Gabon', 'United Kingdom', 'Georgia', 'Ghana', 'Gibraltar',\n",
              "       'Guinea', 'Gambia', 'Greece', 'Greenland', 'Guatemala', 'Guam',\n",
              "       'Guyana', 'Hong Kong', 'Honduras', 'Croatia', 'Haiti', 'Hungary',\n",
              "       'Indonesia', 'India', 'Ireland', 'Iran', 'Iraq', 'Iceland',\n",
              "       'Israel', 'Italy', 'Jamaica', 'Jordan', 'Japan', 'Kazakhstan',\n",
              "       'Kenya', 'Kyrgyz Republic', 'Cambodia', 'South Korea', 'Kuwait',\n",
              "       'Laos', 'Lebanon', 'Liberia', 'Libya', 'Sri Lanka', 'Lesotho',\n",
              "       'Lithuania', 'Luxembourg', 'Latvia', 'Macao', 'Morocco', 'Moldova',\n",
              "       'Madagascar', 'Mexico', 'Mali', 'Myanmar', 'Mongolia',\n",
              "       'Mozambique', 'Mauritania', 'Mauritius', 'Malawi', 'Malaysia',\n",
              "       'Namibia', 'Niger', 'Nigeria', 'Nicaragua', 'Netherlands',\n",
              "       'Norway', 'Nepal', 'New Zealand', 'Oman', 'Pakistan', 'Panama',\n",
              "       'Peru', 'Philippines', 'Papua New Guinea', 'Poland', 'Puerto Rico',\n",
              "       'Portugal', 'Paraguay', 'Palestine', 'Qatar', 'Romania', 'Russia',\n",
              "       'Rwanda', 'Saudi Arabia', 'Sudan', 'Senegal', 'Singapore',\n",
              "       'Solomon Islands', 'Sierra Leone', 'El Salvador', 'San Marino',\n",
              "       'Somalia', 'Serbia', 'South Sudan', 'Suriname', 'Slovak Republic',\n",
              "       'Slovenia', 'Sweden', 'Eswatini', 'Seychelles', 'Syria', 'Chad',\n",
              "       'Togo', 'Thailand', 'Tajikistan', 'Turkmenistan', 'Timor-Leste',\n",
              "       'Trinidad and Tobago', 'Tunisia', 'Turkey', 'Tanzania', 'Uganda',\n",
              "       'Ukraine', 'Uruguay', 'United States', 'Uzbekistan', 'Venezuela',\n",
              "       'British Virgin Islands', 'Vietnam', 'Vanuatu', 'Yemen',\n",
              "       'South Africa', 'Zambia', 'Zimbabwe', 'Taiwan', 'Kosovo',\n",
              "       'Anguilla', 'Falkland Islands'], dtype=object)"
            ]
          },
          "metadata": {
            "tags": []
          },
          "execution_count": 35
        }
      ]
    },
    {
      "cell_type": "code",
      "metadata": {
        "id": "-dwG3e70AK7P",
        "colab_type": "code",
        "colab": {
          "base_uri": "https://localhost:8080/",
          "height": 153
        },
        "outputId": "79a81e3b-12f8-407b-d707-18061a2c7287"
      },
      "source": [
        "gov_pol.get_change_points(policies='C1_School closing', country='Senegal')"
      ],
      "execution_count": 41,
      "outputs": [
        {
          "output_type": "execute_result",
          "data": {
            "text/plain": [
              "[{'date': Timestamp('2020-03-16 00:00:00'),\n",
              "  'indicator_after': 3.0,\n",
              "  'indicator_before': 0.0,\n",
              "  'policy': 'C1_School closing'},\n",
              " {'date': Timestamp('2020-06-25 00:00:00'),\n",
              "  'indicator_after': 2.0,\n",
              "  'indicator_before': 3.0,\n",
              "  'policy': 'C1_School closing'}]"
            ]
          },
          "metadata": {
            "tags": []
          },
          "execution_count": 41
        }
      ]
    },
    {
      "cell_type": "code",
      "metadata": {
        "id": "el9Y6W_BAYPx",
        "colab_type": "code",
        "colab": {}
      },
      "source": [
        ""
      ],
      "execution_count": null,
      "outputs": []
    }
  ]
}